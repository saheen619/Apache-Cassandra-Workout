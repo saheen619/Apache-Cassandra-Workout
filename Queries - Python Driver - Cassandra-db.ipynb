{
 "cells": [
  {
   "cell_type": "code",
   "execution_count": 2,
   "id": "2f253d40",
   "metadata": {},
   "outputs": [
    {
     "name": "stdout",
     "output_type": "stream",
     "text": [
      "Defaulting to user installation because normal site-packages is not writeable\n",
      "Collecting cassandra-driver\n",
      "  Downloading cassandra_driver-3.27.0-cp310-cp310-win_amd64.whl (2.8 MB)\n",
      "     ---------------------------------------- 2.8/2.8 MB 6.3 MB/s eta 0:00:00\n",
      "Collecting geomet<0.3,>=0.1\n",
      "  Downloading geomet-0.2.1.post1-py3-none-any.whl (18 kB)\n",
      "Collecting cryptography>=35.0\n",
      "  Downloading cryptography-40.0.2-cp36-abi3-win_amd64.whl (2.6 MB)\n",
      "     ---------------------------------------- 2.6/2.6 MB 5.2 MB/s eta 0:00:00\n",
      "Requirement already satisfied: six>=1.9 in c:\\users\\sahee\\appdata\\roaming\\python\\python310\\site-packages (from cassandra-driver) (1.16.0)\n",
      "Requirement already satisfied: cffi>=1.12 in c:\\users\\sahee\\appdata\\roaming\\python\\python310\\site-packages (from cryptography>=35.0->cassandra-driver) (1.15.1)\n",
      "Collecting click\n",
      "  Downloading click-8.1.3-py3-none-any.whl (96 kB)\n",
      "     ---------------------------------------- 96.6/96.6 kB 5.4 MB/s eta 0:00:00\n",
      "Requirement already satisfied: pycparser in c:\\users\\sahee\\appdata\\roaming\\python\\python310\\site-packages (from cffi>=1.12->cryptography>=35.0->cassandra-driver) (2.21)\n",
      "Requirement already satisfied: colorama in c:\\users\\sahee\\appdata\\roaming\\python\\python310\\site-packages (from click->geomet<0.3,>=0.1->cassandra-driver) (0.4.6)\n",
      "Installing collected packages: click, geomet, cryptography, cassandra-driver\n",
      "Successfully installed cassandra-driver-3.27.0 click-8.1.3 cryptography-40.0.2 geomet-0.2.1.post1\n",
      "Note: you may need to restart the kernel to use updated packages.\n"
     ]
    },
    {
     "name": "stderr",
     "output_type": "stream",
     "text": [
      "\n",
      "[notice] A new release of pip available: 22.2.2 -> 23.1.2\n",
      "[notice] To update, run: python.exe -m pip install --upgrade pip\n"
     ]
    }
   ],
   "source": [
    "pip install cassandra-driver"
   ]
  },
  {
   "cell_type": "code",
   "execution_count": 5,
   "id": "76783f0b",
   "metadata": {},
   "outputs": [
    {
     "name": "stdout",
     "output_type": "stream",
     "text": [
      "3.27.0\n"
     ]
    }
   ],
   "source": [
    "import cassandra\n",
    "print (cassandra.__version__)"
   ]
  },
  {
   "cell_type": "code",
   "execution_count": 10,
   "id": "752a7bb1",
   "metadata": {},
   "outputs": [
    {
     "name": "stdout",
     "output_type": "stream",
     "text": [
      "4.0.0.6816\n"
     ]
    }
   ],
   "source": [
    "from cassandra.cluster import Cluster\n",
    "from cassandra.auth import PlainTextAuthProvider\n",
    "\n",
    "cloud_config= {\n",
    "  'secure_connect_bundle': 'C:/Users/sahee/OneDrive/Desktop/Repositories/Apache-Cassandra-Workout/secure-connect-cassandra-db.zip'\n",
    "}\n",
    "auth_provider = PlainTextAuthProvider('<<clientid>>', '<<Secterkey>>')\n",
    "cluster = Cluster(cloud=cloud_config, auth_provider=auth_provider)\n",
    "session = cluster.connect()\n",
    "\n",
    "row = session.execute(\"select release_version from system.local\").one()\n",
    "if row:\n",
    "  print(row[0])\n",
    "else:\n",
    "  print(\"An error occurred.\")"
   ]
  },
  {
   "cell_type": "code",
   "execution_count": 18,
   "id": "a5f4c0f0",
   "metadata": {},
   "outputs": [
    {
     "name": "stdout",
     "output_type": "stream",
     "text": [
      "Exception Occured while creating Keyspace :  Error from server: code=2100 [Unauthorized] message=\"Missing correct permission on employee_management.: Keyspace management is currently only supported at https://astra.datastax.com/org/ec095287-26dc-40c0-8064-df128a2abf4a/database/76d34b06-892b-454f-b926-7018963479ba\"\n"
     ]
    }
   ],
   "source": [
    "# Command to create keyspace in Cassandra\n",
    "\n",
    "try:\n",
    "    query = \"\"\"CREATE KEYSPACE employee_management \n",
    "               WITH replication = {'class' : 'SimpleStrategy', 'replication_factor' : 3}\n",
    "            \"\"\"\n",
    "    session.execute(query)\n",
    "    print(\"Keyspace Created Successfully !!\")\n",
    "except Exception as err:\n",
    "    print(\"Exception Occured while creating Keyspace : \",err)"
   ]
  },
  {
   "cell_type": "code",
   "execution_count": null,
   "id": "b09dd812",
   "metadata": {},
   "outputs": [],
   "source": [
    "# Command to Alter the keyspace in Cassandra\n",
    "try:\n",
    "    query = \"\"\"ALTER KEYSPACE employee_management \n",
    "               WITH replication = {'class' : 'SimpleStrategy', 'replication_factor' : 2}\n",
    "            \"\"\"\n",
    "    session.execute(query)\n",
    "    print(\"Keyspace Altered Successfully !!\")\n",
    "except Exception as err:\n",
    "    print(\"Exception Occured while altering Keyspace : \",err)   "
   ]
  },
  {
   "cell_type": "code",
   "execution_count": null,
   "id": "41464708",
   "metadata": {},
   "outputs": [],
   "source": [
    "# Command to Drop the keyspace in Cassandra\n",
    "try:\n",
    "    query = \"DROP KEYSPACE employee_management\"\n",
    "    session.execute(query)\n",
    "    print(\"Keyspace Dropped Successfully !!\")\n",
    "except Exception as err:\n",
    "    print(\"Exception Occured while dropping the Keyspace : \",err)"
   ]
  },
  {
   "cell_type": "code",
   "execution_count": 7,
   "id": "c61c31bd",
   "metadata": {},
   "outputs": [
    {
     "name": "stdout",
     "output_type": "stream",
     "text": [
      "Entered the Keyspace Successfully !!\n"
     ]
    }
   ],
   "source": [
    "# Command to Use a keyspace in Cassandra\n",
    "try:\n",
    "    query = \"USE test_keyspace\"\n",
    "    session.execute(query)\n",
    "    print(\"Entered the Keyspace Successfully !!\")\n",
    "except Exception as err:\n",
    "    print(\"Exception Occured while trying to use Keyspace : \",err)"
   ]
  },
  {
   "cell_type": "code",
   "execution_count": 14,
   "id": "25189bc3",
   "metadata": {},
   "outputs": [
    {
     "name": "stdout",
     "output_type": "stream",
     "text": [
      "Table created inside the keyspace\n"
     ]
    }
   ],
   "source": [
    "# Command to create a table inside a KEyspace\n",
    "try:\n",
    "    query = \"\"\"CREATE TABLE employee(\n",
    "                emp_id int,\n",
    "                emp_name varchar,\n",
    "                emp_salary int,\n",
    "                emp_dept varchar,\n",
    "                emp_email varchar,\n",
    "                emp_phone varchar,\n",
    "                primary key (emp_id, emp_dept)\n",
    "              )\n",
    "            \"\"\"\n",
    "    session.execute(query)\n",
    "    print(\"Table created inside the keyspace\")\n",
    "except Exception as err:\n",
    "    print(\"Exception Occured while creating the table : \",err)"
   ]
  },
  {
   "cell_type": "code",
   "execution_count": 15,
   "id": "2e8b13c2",
   "metadata": {},
   "outputs": [
    {
     "name": "stdout",
     "output_type": "stream",
     "text": [
      "Column dropped successfully !!\n"
     ]
    }
   ],
   "source": [
    "# Alter the table in cassandra to drop a column\n",
    "try:\n",
    "    query = \"ALTER TABLE employee DROP emp_email\"\n",
    "    session.execute(query)\n",
    "    print(\"Column dropped successfully !!\")\n",
    "except Exception as err:\n",
    "    print(\"Exception Occured while dropping the column: \",err)"
   ]
  },
  {
   "cell_type": "code",
   "execution_count": 17,
   "id": "2478ed9a",
   "metadata": {},
   "outputs": [
    {
     "name": "stdout",
     "output_type": "stream",
     "text": [
      "Column added successfully !!\n"
     ]
    }
   ],
   "source": [
    "# Alter the table in cassandra to add a new column\n",
    "# text the most common data type in Cassandra \n",
    "# is used to store text data, such as names, addresses, and descriptions. \n",
    "# The text data type can store up to 2 GB of data.\n",
    "\n",
    "try:\n",
    "    query = \"ALTER TABLE employee ADD emp_email text\"\n",
    "    session.execute(query)\n",
    "    print(\"Column added successfully !!\")\n",
    "except Exception as err:\n",
    "    print(\"Exception Occured while adding the column: \",err)"
   ]
  },
  {
   "cell_type": "code",
   "execution_count": null,
   "id": "5df8c2d2",
   "metadata": {},
   "outputs": [],
   "source": [
    "# Drop a table in cassandra\n",
    "try:\n",
    "    query = \"DROP TABLE employee\"\n",
    "    session.execute(query)\n",
    "    print(\"Table dropped successfully !!\")\n",
    "except Exception as err:\n",
    "    print(\"Exception Occured while dropping the table: \",err)"
   ]
  },
  {
   "cell_type": "code",
   "execution_count": 19,
   "id": "4be963f3",
   "metadata": {},
   "outputs": [
    {
     "name": "stdout",
     "output_type": "stream",
     "text": [
      "Record inserted successfully !!\n"
     ]
    }
   ],
   "source": [
    "# Insert data into cassandra table\n",
    "try:\n",
    "    query = \"\"\"INSERT INTO employee(emp_id, emp_name, emp_salary, emp_dept, emp_email, emp_phone) \n",
    "               VALUES(1, 'Shashank', 10000, 'Software', 'abc.gmail.com','+91 768467474')\n",
    "            \"\"\"\n",
    "    session.execute(query)\n",
    "    print(\"Record inserted successfully !!\")\n",
    "except Exception as err:\n",
    "    print(\"Exception Occured while inserting the data into table: \",err)"
   ]
  },
  {
   "cell_type": "code",
   "execution_count": 20,
   "id": "e1879df1",
   "metadata": {},
   "outputs": [
    {
     "name": "stdout",
     "output_type": "stream",
     "text": [
      "Record inserted successfully !!\n"
     ]
    }
   ],
   "source": [
    "# Insert data into cassandra table\n",
    "try:\n",
    "    query = \"\"\"INSERT INTO employee(emp_id, emp_name, emp_salary, emp_dept, emp_email, emp_phone) \n",
    "               VALUES(2, 'Rahul', 20000, 'IT', 'xyx.gmail.com','+91 908467474')\n",
    "            \"\"\"\n",
    "    session.execute(query)\n",
    "    print(\"Record inserted successfully !!\")\n",
    "except Exception as err:\n",
    "    print(\"Exception Occured while inserting the data into table: \",err)"
   ]
  },
  {
   "cell_type": "code",
   "execution_count": 21,
   "id": "b4606c03",
   "metadata": {},
   "outputs": [
    {
     "name": "stdout",
     "output_type": "stream",
     "text": [
      "Record inserted successfully !!\n"
     ]
    }
   ],
   "source": [
    "# Insert data into cassandra table\n",
    "try:\n",
    "    query = \"\"\"INSERT INTO employee(emp_id, emp_name, emp_salary, emp_dept, emp_email, emp_phone) \n",
    "               VALUES(3, 'Sunny', 22000, 'HR', 'klm.gmail.com','+91 800067474')\n",
    "            \"\"\"\n",
    "    session.execute(query)\n",
    "    print(\"Record inserted successfully !!\")\n",
    "except Exception as err:\n",
    "    print(\"Exception Occured while inserting the data into table: \",err)"
   ]
  },
  {
   "cell_type": "code",
   "execution_count": 22,
   "id": "96f74daf",
   "metadata": {},
   "outputs": [
    {
     "name": "stdout",
     "output_type": "stream",
     "text": [
      "Record inserted successfully !!\n"
     ]
    }
   ],
   "source": [
    "# Insert data into cassandra table\n",
    "try:\n",
    "    query = \"\"\"INSERT INTO employee(emp_id, emp_name, emp_salary, emp_dept, emp_email, emp_phone) \n",
    "               VALUES(4, 'Vishal', 30000, 'Software', 'mno.gmail.com','+91 600467474')\n",
    "            \"\"\"\n",
    "    session.execute(query)\n",
    "    print(\"Record inserted successfully !!\")\n",
    "except Exception as err:\n",
    "    print(\"Exception Occured while inserting the data into table: \",err)"
   ]
  },
  {
   "cell_type": "code",
   "execution_count": 23,
   "id": "80ac0abf",
   "metadata": {},
   "outputs": [
    {
     "name": "stdout",
     "output_type": "stream",
     "text": [
      "Row(emp_id=1, emp_dept='Software', emp_email='abc.gmail.com', emp_name='Shashank', emp_phone='+91 768467474', emp_salary=10000)\n",
      "Row(emp_id=2, emp_dept='IT', emp_email='xyx.gmail.com', emp_name='Rahul', emp_phone='+91 908467474', emp_salary=20000)\n",
      "Row(emp_id=4, emp_dept='Software', emp_email='mno.gmail.com', emp_name='Vishal', emp_phone='+91 600467474', emp_salary=30000)\n",
      "Row(emp_id=3, emp_dept='HR', emp_email='klm.gmail.com', emp_name='Sunny', emp_phone='+91 800067474', emp_salary=22000)\n"
     ]
    }
   ],
   "source": [
    "# Select query on cassandra table\n",
    "\n",
    "try:\n",
    "    query = \"SELECT * FROM employee\"\n",
    "    result = session.execute(query)\n",
    "    for row in result:\n",
    "        print(row)\n",
    "except Exception as err:\n",
    "    print(\"Exception Occured while selecting the data from table: \",err)"
   ]
  },
  {
   "cell_type": "code",
   "execution_count": 24,
   "id": "d79b83a6",
   "metadata": {},
   "outputs": [
    {
     "name": "stdout",
     "output_type": "stream",
     "text": [
      "Row(emp_id=1, emp_name='Shashank')\n",
      "Row(emp_id=2, emp_name='Rahul')\n",
      "Row(emp_id=4, emp_name='Vishal')\n",
      "Row(emp_id=3, emp_name='Sunny')\n"
     ]
    }
   ],
   "source": [
    "# Select query for specific columns in cassandra table\n",
    "try:\n",
    "    query = \"SELECT emp_id, emp_name FROM employee\"\n",
    "    result = session.execute(query)\n",
    "    for row in result:\n",
    "        print(row)\n",
    "except Exception as err:\n",
    "    print(\"Exception Occured while selecting the data from table: \",err)"
   ]
  },
  {
   "cell_type": "code",
   "execution_count": 29,
   "id": "ec5547df",
   "metadata": {},
   "outputs": [
    {
     "name": "stdout",
     "output_type": "stream",
     "text": [
      "Emp ID :  1\n",
      "Emp Name :  Shashank\n",
      "Emp ID :  2\n",
      "Emp Name :  Rahul\n",
      "Emp ID :  4\n",
      "Emp Name :  Vishal\n",
      "Emp ID :  3\n",
      "Emp Name :  Sunny\n"
     ]
    }
   ],
   "source": [
    "# Select query for specific columns in cassandra table and how to access from Row object\n",
    "try:\n",
    "    query = \"SELECT emp_id, emp_name FROM employee\"\n",
    "    result = session.execute(query)\n",
    "    # option 1\n",
    "    for row in result:\n",
    "        print(\"Emp ID : \", row[0])\n",
    "        print(\"Emp Name : \", row[1])\n",
    "except Exception as err:\n",
    "    print(\"Exception Occured while selecting the data from table: \",err)"
   ]
  },
  {
   "cell_type": "code",
   "execution_count": 26,
   "id": "fb9fb52a",
   "metadata": {},
   "outputs": [
    {
     "name": "stdout",
     "output_type": "stream",
     "text": [
      "Exception Occured while selecting the data from table:  tuple indices must be integers or slices, not str\n"
     ]
    }
   ],
   "source": [
    "# Select query for specific columns in cassandra table and how to access from Row object\n",
    "# Doesn't work\n",
    "\n",
    "try:\n",
    "    query = \"SELECT emp_id, emp_name FROM employee\"\n",
    "    result = session.execute(query)\n",
    "    # option 2\n",
    "    for row in result:\n",
    "        print(\"Emp ID : \", row['emp_id'])\n",
    "        print(\"Emp Name : \", row['emp_name'])\n",
    "except Exception as err:\n",
    "    print(\"Exception Occured while selecting the data from table: \",err)"
   ]
  },
  {
   "cell_type": "code",
   "execution_count": 27,
   "id": "3346fb33",
   "metadata": {},
   "outputs": [
    {
     "name": "stdout",
     "output_type": "stream",
     "text": [
      "Row(count=4)\n",
      "4\n"
     ]
    }
   ],
   "source": [
    "# Write a query to get total count of employees\n",
    "\n",
    "try:\n",
    "    query = \"SELECT COUNT(*) FROM employee\"\n",
    "    result = session.execute(query)\n",
    "    row = result.one()\n",
    "    print(row)\n",
    "    print(row[0])\n",
    "except Exception as err:\n",
    "    print(\"Exception Occured while selecting the data from table: \",err)"
   ]
  },
  {
   "cell_type": "code",
   "execution_count": 28,
   "id": "4ff3153e",
   "metadata": {},
   "outputs": [
    {
     "name": "stdout",
     "output_type": "stream",
     "text": [
      "Row(system_max_emp_salary=30000)\n",
      "30000\n"
     ]
    }
   ],
   "source": [
    "# Write a query to find maximum salary from employee table\n",
    "try:\n",
    "    query = \"SELECT MAX(emp_salary) FROM employee\"\n",
    "    result = session.execute(query)\n",
    "    row = result.one()\n",
    "    print(row)\n",
    "    print(row[0])\n",
    "except Exception as err:\n",
    "    print(\"Exception Occured while selecting the data from table: \",err)"
   ]
  },
  {
   "attachments": {},
   "cell_type": "markdown",
   "id": "786ee12c",
   "metadata": {},
   "source": [
    "## Write a query to filter data from cassandra table or how to use where clause"
   ]
  },
  {
   "cell_type": "code",
   "execution_count": 8,
   "id": "842bd7e7",
   "metadata": {},
   "outputs": [
    {
     "name": "stdout",
     "output_type": "stream",
     "text": [
      "Exception Occured while selecting the data from table:  Error from server: code=2200 [Invalid query] message=\"Cannot execute this query as it might involve data filtering and thus may have unpredictable performance. If you want to execute this query despite the performance unpredictability, use ALLOW FILTERING\"\n"
     ]
    }
   ],
   "source": [
    "# Rules for where clause - It can be used effectively with high performance for given below type of columns\n",
    "# RULE 1.) Partition Key (Single or Composite)\n",
    "                   #OR\n",
    "# RULE 2.) if Clustering column (Clustering key) used in where clause then it should be with Partition Key\n",
    "                   #OR\n",
    "# RULE 3.) A column on which we have applied the index\n",
    "                   #OR\n",
    "# RULE 4.) A column which is not part of partition key or index column or clustering column then we can use where clause but we have to\n",
    "#     use keyword ALLOW FILTERING - it will be a super slow performance when data volume is very high\n",
    "\n",
    "try:\n",
    "    query = \"SELECT * FROM employee WHERE emp_name='Shashank'\"\n",
    "    result = session.execute(query)\n",
    "    row = result.one()\n",
    "    print(row)\n",
    "except Exception as err:\n",
    "    print(\"Exception Occured while selecting the data from table: \",err)\n",
    "\n",
    "\n",
    "# [Invalid query] message=\"Cannot execute this query as it might involve data filtering and thus may have unpredictable performance. \n",
    "# If you want to execute this query despite the performance unpredictability, use ALLOW FILTERING"
   ]
  },
  {
   "cell_type": "code",
   "execution_count": 9,
   "id": "9b28febf",
   "metadata": {},
   "outputs": [
    {
     "name": "stdout",
     "output_type": "stream",
     "text": [
      "Row(emp_id=1, emp_dept='Software', emp_email='abc.gmail.com', emp_name='Shashank', emp_phone='+91 768467474', emp_salary=10000)\n"
     ]
    }
   ],
   "source": [
    "# Trying the WHERE FILTERING with ALLOW FILTERING clause. It comes at a cost of degraded performance.\n",
    "\n",
    "try:\n",
    "    query = \"SELECT * FROM employee WHERE emp_name='Shashank' ALLOW FILTERING\"\n",
    "    result = session.execute(query)\n",
    "    row = result.one()\n",
    "    print(row)\n",
    "except Exception as err:\n",
    "    print(\"Exception Occured while selecting the data from table: \",err)"
   ]
  },
  {
   "cell_type": "code",
   "execution_count": 10,
   "id": "8bbed202",
   "metadata": {},
   "outputs": [
    {
     "name": "stdout",
     "output_type": "stream",
     "text": [
      "Row(emp_id=2, emp_dept='IT', emp_email='xyx.gmail.com', emp_name='Rahul', emp_phone='+91 908467474', emp_salary=20000)\n"
     ]
    }
   ],
   "source": [
    "# RULE 1) WHERE clause for Partition key only:\n",
    "# Since we applied the ALLOW FILTERING above, its effective on all further queries too.\n",
    "\n",
    "try:\n",
    "    query = \"SELECT * FROM employee WHERE emp_id=2\"\n",
    "    result = session.execute(query)\n",
    "    row = result.one()\n",
    "    print(row)\n",
    "except Exception as err:\n",
    "    print(\"Exception Occured while selecting the data from table: \",err)"
   ]
  },
  {
   "cell_type": "code",
   "execution_count": 11,
   "id": "caf2911f",
   "metadata": {},
   "outputs": [
    {
     "name": "stdout",
     "output_type": "stream",
     "text": [
      "Row(emp_id=1, emp_dept='Software', emp_email='abc.gmail.com', emp_name='Shashank', emp_phone='+91 768467474', emp_salary=10000)\n"
     ]
    }
   ],
   "source": [
    "# RULE 2) where clause for Clustering key only:\n",
    "\n",
    "try:\n",
    "    query = \"SELECT * FROM employee WHERE emp_dept='Software' AND emp_id=1\"\n",
    "    result = session.execute(query)\n",
    "    row = result.one()\n",
    "    print(row)\n",
    "except Exception as err:\n",
    "    print(\"Exception Occured while selecting the data from table: \",err)"
   ]
  },
  {
   "cell_type": "code",
   "execution_count": null,
   "id": "62cb0af1",
   "metadata": {},
   "outputs": [],
   "source": [
    "# We have another composite partition key\n",
    "\n",
    "PRIMARY KEY ( (employeeid, fname) , dept )\n",
    "\n",
    "# Wrong query\n",
    "SELECT * FROM employee WHERE employeeid = 'x' AND dept = 'software' AND fname = 'shashank'  \n",
    "\n",
    "# Correct query - We should mention the sequence of query to match the sequenmce of these below columns as same as the PARTITION KEY definition\n",
    "SELECT * FROM employee WHERE dept = 'software' AND employeeid = 'x' AND fname = 'shashank' "
   ]
  },
  {
   "attachments": {},
   "cell_type": "markdown",
   "id": "d075aada",
   "metadata": {},
   "source": [
    "## Group by in cassandra "
   ]
  },
  {
   "cell_type": "code",
   "execution_count": 25,
   "id": "9741f0c4",
   "metadata": {},
   "outputs": [
    {
     "name": "stdout",
     "output_type": "stream",
     "text": [
      "Row(emp_id=1, sum_salary=10000)\n"
     ]
    }
   ],
   "source": [
    "# Group by in cassandra  -  Allowed for all columns which are part of Primary Key\n",
    "\n",
    "# Follow given below rules\n",
    "# Rule 1 : Use only PARTITION KEY in the group by\n",
    "              #OR\n",
    "# Rule 2 : if CLUSTERING KEY column is used then follow the actual declared sequence in the PRIMARY KEY\n",
    "try:\n",
    "    query = \"SELECT emp_id, SUM(emp_salary) AS sum_salary FROM employee GROUP BY emp_id\"\n",
    "    result = session.execute(query)\n",
    "    row = result.one()\n",
    "    print(row)\n",
    "except Exception as err:\n",
    "    print(\"Exception Occured while selecting the data from table: \",err)"
   ]
  },
  {
   "cell_type": "code",
   "execution_count": 26,
   "id": "88f9137a",
   "metadata": {},
   "outputs": [
    {
     "name": "stdout",
     "output_type": "stream",
     "text": [
      "Row(emp_id=1, emp_dept='Software', sum_salary=10000)\n"
     ]
    }
   ],
   "source": [
    "# Group by in cassandra \n",
    "# Rule - 2 : if Cluster key column is used then follow the actual declared sequence in the primary key\n",
    "try:\n",
    "    query = \"SELECT emp_id, emp_dept, SUM(emp_salary) AS sum_salary FROM employee GROUP BY emp_id, emp_dept\"\n",
    "    result = session.execute(query)\n",
    "    row = result.one()\n",
    "    print(row)\n",
    "except Exception as err:\n",
    "    print(\"Exception Occured while selecting the data from table: \",err)"
   ]
  }
 ],
 "metadata": {
  "kernelspec": {
   "display_name": "Python 3 (ipykernel)",
   "language": "python",
   "name": "python3"
  },
  "language_info": {
   "codemirror_mode": {
    "name": "ipython",
    "version": 3
   },
   "file_extension": ".py",
   "mimetype": "text/x-python",
   "name": "python",
   "nbconvert_exporter": "python",
   "pygments_lexer": "ipython3",
   "version": "3.10.7"
  }
 },
 "nbformat": 4,
 "nbformat_minor": 5
}
